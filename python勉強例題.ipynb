{
  "nbformat": 4,
  "nbformat_minor": 0,
  "metadata": {
    "colab": {
      "name": "python勉強例題.ipynb",
      "provenance": [],
      "authorship_tag": "ABX9TyMEEILnTQU2nwGyCXIzi3RQ",
      "include_colab_link": true
    },
    "kernelspec": {
      "name": "python3",
      "display_name": "Python 3"
    },
    "language_info": {
      "name": "python"
    }
  },
  "cells": [
    {
      "cell_type": "markdown",
      "metadata": {
        "id": "view-in-github",
        "colab_type": "text"
      },
      "source": [
        "<a href=\"https://colab.research.google.com/github/OsamuHaketa/Travelands/blob/main/python%E5%8B%89%E5%BC%B7%E4%BE%8B%E9%A1%8C.ipynb\" target=\"_parent\"><img src=\"https://colab.research.google.com/assets/colab-badge.svg\" alt=\"Open In Colab\"/></a>"
      ]
    },
    {
      "cell_type": "code",
      "execution_count": null,
      "metadata": {
        "colab": {
          "base_uri": "https://localhost:8080/"
        },
        "id": "ckncX_e4UAUL",
        "outputId": "21d9e502-9ab9-416b-d904-090545949b1c"
      },
      "outputs": [
        {
          "output_type": "stream",
          "name": "stdout",
          "text": [
            "3 4 5\n"
          ]
        }
      ],
      "source": [
        "l = 1\n",
        "while l < 9998:\n",
        "    a, b, c = l, l + 1, l + 2\n",
        "\n",
        "    if a ** 2 + b ** 2 == c ** 2:\n",
        "        print(a, b, c)\n",
        "        \n",
        "    l += 1"
      ]
    },
    {
      "cell_type": "code",
      "source": [
        "import math\n",
        "def divisor_s(n):\n",
        "   sigma=0\n",
        "   for s in range(1,n+1):\n",
        "       for t in range(1,s+1):\n",
        "           sigma+=math.cos(2*math.pi*t*n/s)\n",
        "   return int(round(sigma,0))\n",
        "\n",
        "divisor_s(1234567890)"
      ],
      "metadata": {
        "id": "BrqY6kltq4K_"
      },
      "execution_count": null,
      "outputs": []
    },
    {
      "cell_type": "code",
      "source": [
        "# フィボナッチ数列生成関数\n",
        "def fibonacci_list(n):\n",
        "    fib = [1, 1]\n",
        "    if n == 1:\n",
        "        fib = [1]\n",
        "    else:\n",
        "        for k in range(2, n):\n",
        "            fib.append(fib[k-1]+fib[k-2])\n",
        "    return fib"
      ],
      "metadata": {
        "id": "did2Y2NgUN_s"
      },
      "execution_count": null,
      "outputs": []
    },
    {
      "cell_type": "code",
      "source": [
        "fib = fibonacci_list(10)\n",
        "\n",
        "print(fib)"
      ],
      "metadata": {
        "colab": {
          "base_uri": "https://localhost:8080/"
        },
        "id": "l-rJ56wuUhvr",
        "outputId": "4a247822-ce0d-4a9d-b815-17cd22c04b2c"
      },
      "execution_count": null,
      "outputs": [
        {
          "output_type": "stream",
          "name": "stdout",
          "text": [
            "[1, 1, 2, 3, 5, 8, 13, 21, 34, 55]\n"
          ]
        }
      ]
    },
    {
      "cell_type": "code",
      "source": [
        "def make_divisors(n):\n",
        "    lower_divisors , upper_divisors = [], []\n",
        "    i = 1\n",
        "    while i*i <= n:\n",
        "        if n % i == 0:\n",
        "            lower_divisors.append(i)\n",
        "            if i != n // i:\n",
        "                upper_divisors.append(n//i)\n",
        "        i += 1\n",
        "    return lower_divisors + upper_divisors[::-1]"
      ],
      "metadata": {
        "id": "vRACCLIOVKP7"
      },
      "execution_count": null,
      "outputs": []
    },
    {
      "cell_type": "code",
      "source": [
        "div = make_divisors(10)\n",
        "\n",
        "print(div)"
      ],
      "metadata": {
        "colab": {
          "base_uri": "https://localhost:8080/"
        },
        "id": "VmWSdGS_VMkR",
        "outputId": "5d5ddd08-edc4-4fca-e02e-3acd4da5c751"
      },
      "execution_count": null,
      "outputs": [
        {
          "output_type": "stream",
          "name": "stdout",
          "text": [
            "[1, 2, 5, 10]\n"
          ]
        }
      ]
    },
    {
      "cell_type": "code",
      "source": [
        "def calculate_divisor(num):\n",
        "    divisor = [i for i in range(1,num + 1) if num % i == 0]\n",
        "    return divisor\n",
        "\n",
        "def calculate_limited_divisor(num,divisor_range):\n",
        "    limited_divisor = [i for i in range(1,divisor_range + 1) if num % i == 0]\n",
        "    return limited_divisor\n",
        "\n",
        "num = int(input(\"約数の総和を出したい整数を入力してください：\"))\n",
        "divisor_range = int(input(\"和を出したい約数の範囲を指定してください：\"))\n",
        "result = calculate_divisor(num)\n",
        "result2 = calculate_limited_divisor(num,divisor_range)\n",
        "\n",
        "print(\"約数の数は\" + str(len(result)) + \"です\")\n",
        "print(\"約数の総和は\" + str(sum(result)) + \"です\")\n",
        "print((str(divisor_range) + \"以下の約数の和は\" + str(sum(result2)) + \"です\"))"
      ],
      "metadata": {
        "colab": {
          "base_uri": "https://localhost:8080/"
        },
        "id": "AEszBrNBr_xe",
        "outputId": "2c53dc37-4143-4557-dc97-2f28271080dc"
      },
      "execution_count": null,
      "outputs": [
        {
          "output_type": "stream",
          "name": "stdout",
          "text": [
            "約数の総和を出したい整数を入力してください：1234567890\n",
            "和を出したい約数の範囲を指定してください：20000000\n",
            "約数の数は48です\n",
            "約数の総和は3211610688です\n",
            "20000000以下の約数の和は15451595です\n"
          ]
        }
      ]
    },
    {
      "cell_type": "code",
      "source": [
        "def Trib(n):\n",
        "    a, b, c = 1, 0, 5\n",
        "    if n == 0:\n",
        "        return a\n",
        "    elif n == 1:\n",
        "        return b\n",
        "    elif n == 2:\n",
        "        return c\n",
        "    else:\n",
        "        for i in range(n-2):\n",
        "            a, b, c = b, c, a + b + c\n",
        "        return c\n",
        "\n",
        "print([Trib(n) for n in range(31)])\n",
        "\n",
        "def Tetra(n):\n",
        "    a, b, c, d = 0, 0, 0, 1\n",
        "    if n == 0:\n",
        "        return a\n",
        "    elif n == 1:\n",
        "        return b\n",
        "    elif n == 2:\n",
        "        return c\n",
        "    elif n == 3:\n",
        "        return d\n",
        "    else:\n",
        "        for i in range(n-3):\n",
        "            a, b, c, d = b, c, d, a + b + c + d\n",
        "        return d\n",
        "\n",
        "print([Tetra(n) for n in range(31)])"
      ],
      "metadata": {
        "colab": {
          "base_uri": "https://localhost:8080/"
        },
        "id": "OZ9HQCEntRJs",
        "outputId": "3fea52a3-5213-485b-c575-fe196a4a7935"
      },
      "execution_count": null,
      "outputs": [
        {
          "output_type": "stream",
          "name": "stdout",
          "text": [
            "[1, 0, 5, 6, 11, 22, 39, 72, 133, 244, 449, 826, 1519, 2794, 5139, 9452, 17385, 31976, 58813, 108174, 198963, 365950, 673087, 1238000, 2277037, 4188124, 7703161, 14168322, 26059607, 47931090, 88159019]\n",
            "[0, 0, 0, 1, 1, 2, 4, 8, 15, 29, 56, 108, 208, 401, 773, 1490, 2872, 5536, 10671, 20569, 39648, 76424, 147312, 283953, 547337, 1055026, 2033628, 3919944, 7555935, 14564533, 28074040]\n"
          ]
        }
      ]
    },
    {
      "cell_type": "code",
      "source": [
        "a=range(1,30000)\n",
        "c=0\n",
        "for i in a:\n",
        "    if (i%3==0) or ('3' in str(i)):\n",
        "        c=c+1\n",
        "print(c)"
      ],
      "metadata": {
        "id": "e6D61m6Etwtb"
      },
      "execution_count": null,
      "outputs": []
    },
    {
      "cell_type": "code",
      "source": [
        "def create_number_list(x):\n",
        "    number_list = []\n",
        "    if x <= 0: return number_list\n",
        "    for i in range(1, x+1, 1):\n",
        "        if i%3 == 0 or ('3' in str(i)):\n",
        "            number_list.append(i)\n",
        "    return number_list\n",
        " \n",
        "if __name__ == '__main__':\n",
        "    d = sum(create_number_list(40000))\n",
        "print(d)"
      ],
      "metadata": {
        "colab": {
          "base_uri": "https://localhost:8080/"
        },
        "id": "8D2HFDUzurj6",
        "outputId": "f0225789-65f9-4d1c-d42b-e5dd389f0999"
      },
      "execution_count": null,
      "outputs": [
        {
          "output_type": "stream",
          "name": "stdout",
          "text": [
            "600726804\n"
          ]
        }
      ]
    },
    {
      "cell_type": "code",
      "source": [
        "ans = 0\n",
        "n = 0\n",
        "while ans < 15:\n",
        "  n += 1\n",
        "  ans += 1 / n\n",
        "print(n-1)\n",
        "print(ans - 1/(n))\n",
        "print(n)\n",
        "print(ans)\n"
      ],
      "metadata": {
        "colab": {
          "base_uri": "https://localhost:8080/"
        },
        "id": "6OBsh8ukvgQD",
        "outputId": "b5c542f5-a24e-4e30-a568-235fbc6ca68b"
      },
      "execution_count": null,
      "outputs": [
        {
          "output_type": "stream",
          "name": "stdout",
          "text": [
            "1835420\n",
            "14.999999833433106\n",
            "1835421\n",
            "15.000000378267234\n"
          ]
        }
      ]
    },
    {
      "cell_type": "code",
      "source": [
        "i = 2049\n",
        "lst = []\n",
        "while i > 0:\n",
        "    lst.append(i%10)\n",
        "    i //= 10\n",
        "lst.reverse()\n",
        "print(lst)"
      ],
      "metadata": {
        "id": "RuEVyNzy0HmQ",
        "colab": {
          "base_uri": "https://localhost:8080/"
        },
        "outputId": "224c9f58-d83e-4ad0-ead6-c41709cdd6bb"
      },
      "execution_count": 1,
      "outputs": [
        {
          "output_type": "stream",
          "name": "stdout",
          "text": [
            "[2, 0, 4, 9]\n"
          ]
        }
      ]
    },
    {
      "cell_type": "code",
      "source": [
        "num = 123456789\n",
        "x = [int(a) for a in str(num)]\n",
        "print(x)"
      ],
      "metadata": {
        "colab": {
          "base_uri": "https://localhost:8080/"
        },
        "id": "KEgSXPYiFoLk",
        "outputId": "ab495088-c981-44ef-b5a1-2b4693f731ee"
      },
      "execution_count": 4,
      "outputs": [
        {
          "output_type": "stream",
          "name": "stdout",
          "text": [
            "[1, 2, 3, 4, 5, 6, 7, 8, 9]\n"
          ]
        }
      ]
    },
    {
      "cell_type": "code",
      "source": [
        "import math\n",
        "n = 123456789\n",
        "x = [(n//(10**i))%10 for i in range(math.ceil(math.log(n, 10))-1, -1, -1)]\n",
        "print(x)"
      ],
      "metadata": {
        "colab": {
          "base_uri": "https://localhost:8080/"
        },
        "id": "cfZKScRIFwkb",
        "outputId": "101d7422-8852-4d4b-a229-50670f2d74e0"
      },
      "execution_count": 5,
      "outputs": [
        {
          "output_type": "stream",
          "name": "stdout",
          "text": [
            "[1, 2, 3, 4, 5, 6, 7, 8, 9]\n"
          ]
        }
      ]
    },
    {
      "cell_type": "code",
      "source": [
        "str1 = '123456789'\n",
        "A = 1\n",
        "result = []\n",
        "for i in range(0, len(str1), A):\n",
        "    result.append(int(str1[i : i + A]))\n",
        "print(\"result : \" + str(result))"
      ],
      "metadata": {
        "colab": {
          "base_uri": "https://localhost:8080/"
        },
        "id": "60mZJ9SaF-zM",
        "outputId": "14dd2933-ed27-4092-bb0d-929e008d7cf7"
      },
      "execution_count": 7,
      "outputs": [
        {
          "output_type": "stream",
          "name": "stdout",
          "text": [
            "result : [1, 2, 3, 4, 5, 6, 7, 8, 9]\n"
          ]
        }
      ]
    }
  ]
}